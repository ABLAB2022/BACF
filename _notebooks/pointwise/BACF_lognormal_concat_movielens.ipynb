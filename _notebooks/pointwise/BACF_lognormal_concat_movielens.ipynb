{
 "cells": [
  {
   "cell_type": "code",
   "execution_count": 1,
   "id": "8f20d785",
   "metadata": {
    "colab": {
     "base_uri": "https://localhost:8080/"
    },
    "executionInfo": {
     "elapsed": 30597,
     "status": "ok",
     "timestamp": 1757615344668,
     "user": {
      "displayName": "jay arnim",
      "userId": "06585464737719356011"
     },
     "user_tz": -540
    },
    "id": "8f20d785",
    "outputId": "c463a99c-d3ef-49af-d2fa-e17c829b0b47"
   },
   "outputs": [],
   "source": [
    "LEARNING_TYPE = \"pointwise\"\n",
    "MODEL_CLASS = \"BACF\"\n",
    "SAMPLER_TYPE = \"lognormal\"\n",
    "SCORE_FN_TYPE = \"concat\"\n",
    "DATA_NAME = \"movielens\"\n",
    "MODEL_NAME = f\"{MODEL_CLASS}_{SAMPLER_TYPE}_{SCORE_FN_TYPE}_{DATA_NAME}\""
   ]
  },
  {
   "cell_type": "code",
   "execution_count": 2,
   "id": "60449d32",
   "metadata": {},
   "outputs": [],
   "source": [
    "WORK_DIR_PATH = \"../..\""
   ]
  },
  {
   "cell_type": "code",
   "execution_count": 3,
   "id": "7bc1a841",
   "metadata": {},
   "outputs": [],
   "source": [
    "# from google.colab import drive\n",
    "# drive.mount('/content/drive')\n",
    "# WORK_DIR_PATH = \"/content/drive/MyDrive/BACF/\""
   ]
  },
  {
   "cell_type": "markdown",
   "id": "613e2bd6",
   "metadata": {
    "id": "613e2bd6"
   },
   "source": [
    "# Constants"
   ]
  },
  {
   "cell_type": "code",
   "execution_count": 4,
   "id": "a7c3f0fb",
   "metadata": {},
   "outputs": [],
   "source": [
    "# split\n",
    "TRN_NEG_PER_POS = 4\n",
    "TST_NEG_PER_POS = 99\n",
    "LOO_NEG_PER_POS = TST_NEG_PER_POS\n",
    "TRN_BATCH_SIZE = 256\n",
    "TST_BATCH_SIZE = TRN_BATCH_SIZE\n",
    "LOO_BATCH_SIZE = 1000\n",
    "TRN_VAL_TST_RATIO = dict(trn=0.8, val=0.1, tst=0.1)\n",
    "NEG_PER_POS_RATIO = dict(trn=TRN_NEG_PER_POS, val=TRN_NEG_PER_POS, tst=TST_NEG_PER_POS, loo=LOO_NEG_PER_POS)\n",
    "BATCH_SIZE = dict(trn=TRN_BATCH_SIZE, val=TRN_BATCH_SIZE, tst=TST_BATCH_SIZE, loo=LOO_BATCH_SIZE)\n",
    "HIST_SELECTOR_TYPE = \"tfidf\"\n",
    "MAX_HIST = 400 if HIST_SELECTOR_TYPE==\"tfidf\" else None\n",
    "SHUFFLE = True"
   ]
  },
  {
   "cell_type": "code",
   "execution_count": 5,
   "id": "0ee9e118",
   "metadata": {},
   "outputs": [],
   "source": [
    "# Model\n",
    "N_FACTORS = 32\n",
    "HIDDEN = [N_FACTORS*2, N_FACTORS*2, N_FACTORS, N_FACTORS//2]\n",
    "HYPER_APPROX = 0.1\n",
    "HYPER_PRIOR = 1.0\n",
    "TAU = 1.0\n",
    "BETA = 0.5\n",
    "DROPOUT = 0.2"
   ]
  },
  {
   "cell_type": "code",
   "execution_count": 6,
   "id": "a306b347",
   "metadata": {},
   "outputs": [],
   "source": [
    "# how to learn\n",
    "LEARNING_RATE = 1e-4\n",
    "WEIGHT_DECAY = 1e-3\n",
    "KL_LAMBDA = 1.0"
   ]
  },
  {
   "cell_type": "code",
   "execution_count": 7,
   "id": "bbc2ae25",
   "metadata": {},
   "outputs": [],
   "source": [
    "# how to monitor\n",
    "METRIC_FN_TYPE = \"ndcg\"\n",
    "PATIENCE = 5\n",
    "DELTA = 1e-3"
   ]
  },
  {
   "cell_type": "code",
   "execution_count": 8,
   "id": "d60ab310",
   "metadata": {
    "execution": {
     "iopub.execute_input": "2025-04-18T00:54:03.520580Z",
     "iopub.status.busy": "2025-04-18T00:54:03.520580Z",
     "iopub.status.idle": "2025-04-18T00:54:03.527304Z",
     "shell.execute_reply": "2025-04-18T00:54:03.527304Z"
    },
    "executionInfo": {
     "elapsed": 5,
     "status": "ok",
     "timestamp": 1757615344671,
     "user": {
      "displayName": "jay arnim",
      "userId": "06585464737719356011"
     },
     "user_tz": -540
    },
    "id": "d60ab310"
   },
   "outputs": [],
   "source": [
    "# how to loop\n",
    "N_EPOCHS = 1000\n",
    "ANNEALING = 100\n",
    "WARM_UP = 10\n",
    "INTERVAL = 1"
   ]
  },
  {
   "cell_type": "markdown",
   "id": "f9f08c36",
   "metadata": {
    "id": "f9f08c36"
   },
   "source": [
    "# Config"
   ]
  },
  {
   "cell_type": "code",
   "execution_count": 9,
   "id": "017c0eef",
   "metadata": {
    "executionInfo": {
     "elapsed": 1,
     "status": "ok",
     "timestamp": 1757615344674,
     "user": {
      "displayName": "jay arnim",
      "userId": "06585464737719356011"
     },
     "user_tz": -540
    },
    "id": "017c0eef"
   },
   "outputs": [],
   "source": [
    "import warnings\n",
    "warnings.filterwarnings(\"ignore\")"
   ]
  },
  {
   "cell_type": "code",
   "execution_count": 10,
   "id": "45fd1993",
   "metadata": {
    "colab": {
     "base_uri": "https://localhost:8080/"
    },
    "execution": {
     "iopub.execute_input": "2025-04-18T00:54:03.527304Z",
     "iopub.status.busy": "2025-04-18T00:54:03.527304Z",
     "iopub.status.idle": "2025-04-18T00:54:03.531315Z",
     "shell.execute_reply": "2025-04-18T00:54:03.531315Z"
    },
    "executionInfo": {
     "elapsed": 360,
     "status": "ok",
     "timestamp": 1757615345036,
     "user": {
      "displayName": "jay arnim",
      "userId": "06585464737719356011"
     },
     "user_tz": -540
    },
    "id": "45fd1993",
    "outputId": "1d2ae62e-be5a-4a36-8681-b6056fcb75d3"
   },
   "outputs": [
    {
     "name": "stdout",
     "output_type": "stream",
     "text": [
      "DIRECTORY: c:\\Users\\jayar\\Desktop\\바탕 화면\\REPO\\RESEARCH\\2025-2 MDPI\\BACF\n"
     ]
    }
   ],
   "source": [
    "import os\n",
    "os.environ[\"CUDA_LAUNCH_BLOCKING\"] = \"1\"\n",
    "os.chdir(WORK_DIR_PATH)\n",
    "print(f\"DIRECTORY: {os.getcwd()}\")"
   ]
  },
  {
   "cell_type": "code",
   "execution_count": null,
   "id": "2f4ba2b9",
   "metadata": {
    "execution": {
     "iopub.execute_input": "2025-04-18T00:54:03.531315Z",
     "iopub.status.busy": "2025-04-18T00:54:03.531315Z",
     "iopub.status.idle": "2025-04-18T00:54:05.107842Z",
     "shell.execute_reply": "2025-04-18T00:54:05.107457Z"
    },
    "executionInfo": {
     "elapsed": 36152,
     "status": "ok",
     "timestamp": 1757615381194,
     "user": {
      "displayName": "jay arnim",
      "userId": "06585464737719356011"
     },
     "user_tz": -540
    },
    "id": "2f4ba2b9"
   },
   "outputs": [],
   "source": [
    "import pandas as pd\n",
    "import torch\n",
    "from BACF import bacf\n",
    "from EXPERIMENT import UTILS\n",
    "from EXPERIMENT.PIPELINE.builder import Builder\n",
    "from EXPERIMENT.TRAINER.runner import Runner\n",
    "from EXPERIMENT.TRAINER.monitor.monitor import EarlyStoppingMonitor\n",
    "from EXPERIMENT.TRAINER.evaluator.evaluator import PerformanceEvaluator"
   ]
  },
  {
   "cell_type": "code",
   "execution_count": null,
   "id": "4f2bb7a3",
   "metadata": {
    "executionInfo": {
     "elapsed": 14291,
     "status": "ok",
     "timestamp": 1757615395482,
     "user": {
      "displayName": "jay arnim",
      "userId": "06585464737719356011"
     },
     "user_tz": -540
    },
    "id": "4f2bb7a3"
   },
   "outputs": [],
   "source": [
    "if LEARNING_TYPE==\"listwise\":\n",
    "    from EXPERIMENT.TRAINER.trainer.listwise import CustomizedTrainer\n",
    "    LOSS_FN_TYPE = \"climf\"\n",
    "\n",
    "elif LEARNING_TYPE==\"pairwise\":\n",
    "    from EXPERIMENT.TRAINER.trainer.pairwise import CustomizedTrainer\n",
    "    LOSS_FN_TYPE = \"bpr\"\n",
    "\n",
    "elif LEARNING_TYPE==\"pointwise\":\n",
    "    from EXPERIMENT.TRAINER.trainer.pointwise import CustomizedTrainer\n",
    "    LOSS_FN_TYPE = \"bce\"\n",
    "\n",
    "else:\n",
    "    raise ValueError()"
   ]
  },
  {
   "cell_type": "code",
   "execution_count": null,
   "id": "851631e1",
   "metadata": {
    "execution": {
     "iopub.execute_input": "2025-04-18T00:54:05.108232Z",
     "iopub.status.busy": "2025-04-18T00:54:05.108232Z",
     "iopub.status.idle": "2025-04-18T00:54:05.782577Z",
     "shell.execute_reply": "2025-04-18T00:54:05.782577Z"
    },
    "executionInfo": {
     "elapsed": 13,
     "status": "ok",
     "timestamp": 1757615395509,
     "user": {
      "displayName": "jay arnim",
      "userId": "06585464737719356011"
     },
     "user_tz": -540
    },
    "id": "851631e1"
   },
   "outputs": [],
   "source": [
    "from EXPERIMENT.UTILS.constants import (\n",
    "    DEFAULT_USER_COL,\n",
    "    DEFAULT_ITEM_COL,\n",
    "    DEFAULT_RATING_COL,\n",
    "    DEFAULT_LABEL_COL,\n",
    "    DEFAULT_TIMESTAMP_COL,\n",
    "    DEFAULT_PREDICTION_COL,\n",
    "    COL_DICT,\n",
    "    DEFAULT_K,\n",
    "    DEFAULT_THRESHOLD,\n",
    "    SEED,\n",
    ")"
   ]
  },
  {
   "cell_type": "code",
   "execution_count": 14,
   "id": "9a53ddac",
   "metadata": {
    "colab": {
     "base_uri": "https://localhost:8080/"
    },
    "execution": {
     "iopub.execute_input": "2025-04-18T00:54:05.782577Z",
     "iopub.status.busy": "2025-04-18T00:54:05.782577Z",
     "iopub.status.idle": "2025-04-18T00:54:05.812530Z",
     "shell.execute_reply": "2025-04-18T00:54:05.812530Z"
    },
    "executionInfo": {
     "elapsed": 642,
     "status": "ok",
     "timestamp": 1757615396152,
     "user": {
      "displayName": "jay arnim",
      "userId": "06585464737719356011"
     },
     "user_tz": -540
    },
    "id": "9a53ddac",
    "outputId": "4e381dbb-c946-41ba-f3bd-3771fa5e86ca"
   },
   "outputs": [
    {
     "name": "stdout",
     "output_type": "stream",
     "text": [
      "SETTING ALL SEEDS TO 42...\n",
      "ALL SEEDS SET\n"
     ]
    }
   ],
   "source": [
    "# seed\n",
    "UTILS.seed.reset()"
   ]
  },
  {
   "cell_type": "code",
   "execution_count": 15,
   "id": "97ae7b90",
   "metadata": {
    "colab": {
     "base_uri": "https://localhost:8080/"
    },
    "execution": {
     "iopub.execute_input": "2025-04-18T00:54:05.812530Z",
     "iopub.status.busy": "2025-04-18T00:54:05.812530Z",
     "iopub.status.idle": "2025-04-18T00:54:05.816030Z",
     "shell.execute_reply": "2025-04-18T00:54:05.816030Z"
    },
    "executionInfo": {
     "elapsed": 6,
     "status": "ok",
     "timestamp": 1757615396160,
     "user": {
      "displayName": "jay arnim",
      "userId": "06585464737719356011"
     },
     "user_tz": -540
    },
    "id": "97ae7b90",
    "outputId": "bb90a495-1997-46f1-f6bd-40709db450b4"
   },
   "outputs": [
    {
     "name": "stdout",
     "output_type": "stream",
     "text": [
      "cuda\n"
     ]
    }
   ],
   "source": [
    "# Available GPU\n",
    "device = torch.device(\"cuda\" if torch.cuda.is_available() else \"cpu\")\n",
    "print(device)"
   ]
  },
  {
   "cell_type": "markdown",
   "id": "0b47285f",
   "metadata": {
    "id": "0b47285f"
   },
   "source": [
    "# Data Preparation"
   ]
  },
  {
   "cell_type": "code",
   "execution_count": 16,
   "id": "ed5d6be4",
   "metadata": {
    "execution": {
     "iopub.execute_input": "2025-04-18T00:54:05.816030Z",
     "iopub.status.busy": "2025-04-18T00:54:05.816030Z",
     "iopub.status.idle": "2025-04-18T00:54:05.838930Z",
     "shell.execute_reply": "2025-04-18T00:54:05.838930Z"
    },
    "executionInfo": {
     "elapsed": 2268,
     "status": "ok",
     "timestamp": 1757615398429,
     "user": {
      "displayName": "jay arnim",
      "userId": "06585464737719356011"
     },
     "user_tz": -540
    },
    "id": "ed5d6be4"
   },
   "outputs": [],
   "source": [
    "data = pd.read_csv(f\"./_data/{DATA_NAME}.csv\")"
   ]
  },
  {
   "cell_type": "code",
   "execution_count": 17,
   "id": "a3d2b14e",
   "metadata": {
    "execution": {
     "iopub.execute_input": "2025-04-18T00:54:05.840436Z",
     "iopub.status.busy": "2025-04-18T00:54:05.840436Z",
     "iopub.status.idle": "2025-04-18T00:54:05.855254Z",
     "shell.execute_reply": "2025-04-18T00:54:05.855254Z"
    },
    "executionInfo": {
     "elapsed": 2,
     "status": "ok",
     "timestamp": 1757615398448,
     "user": {
      "displayName": "jay arnim",
      "userId": "06585464737719356011"
     },
     "user_tz": -540
    },
    "id": "a3d2b14e"
   },
   "outputs": [],
   "source": [
    "# Number of user, item\n",
    "N_USERS = data[DEFAULT_USER_COL].nunique()\n",
    "N_ITEMS = data[DEFAULT_ITEM_COL].nunique()"
   ]
  },
  {
   "cell_type": "code",
   "execution_count": 18,
   "id": "483c1f75",
   "metadata": {
    "colab": {
     "base_uri": "https://localhost:8080/"
    },
    "execution": {
     "iopub.execute_input": "2025-04-18T00:54:05.855254Z",
     "iopub.status.busy": "2025-04-18T00:54:05.855254Z",
     "iopub.status.idle": "2025-04-18T00:54:05.860357Z",
     "shell.execute_reply": "2025-04-18T00:54:05.860357Z"
    },
    "executionInfo": {
     "elapsed": 52,
     "status": "ok",
     "timestamp": 1757615398502,
     "user": {
      "displayName": "jay arnim",
      "userId": "06585464737719356011"
     },
     "user_tz": -540
    },
    "id": "483c1f75",
    "outputId": "fecf2702-29fd-42be-e961-168cc5c4bfca"
   },
   "outputs": [
    {
     "name": "stdout",
     "output_type": "stream",
     "text": [
      "number of user: 610\n",
      "number of item: 9724\n",
      "total interaction: 100836\n",
      "interaction density: 1.7000 %\n",
      "max interaction of user: 2698\n",
      "max interaction of item: 329\n",
      "top 10.0 % interaction of user: 400.3\n",
      "top 10.0 % interaction of item: 27.0\n",
      "mean interaction of user: 165\n",
      "mean interaction of item: 10\n"
     ]
    }
   ],
   "source": [
    "# data Description\n",
    "UTILS.datahandler.description(data)"
   ]
  },
  {
   "cell_type": "code",
   "execution_count": 19,
   "id": "8c668a94",
   "metadata": {
    "execution": {
     "iopub.execute_input": "2025-04-18T00:54:05.860357Z",
     "iopub.status.busy": "2025-04-18T00:54:05.860357Z",
     "iopub.status.idle": "2025-04-18T00:54:06.931133Z",
     "shell.execute_reply": "2025-04-18T00:54:06.931133Z"
    },
    "executionInfo": {
     "elapsed": 1021,
     "status": "ok",
     "timestamp": 1757615399521,
     "user": {
      "displayName": "jay arnim",
      "userId": "06585464737719356011"
     },
     "user_tz": -540
    },
    "id": "8c668a94"
   },
   "outputs": [],
   "source": [
    "kwargs = dict(\n",
    "    origin=data,\n",
    "    learning_type=LEARNING_TYPE,\n",
    ")\n",
    "\n",
    "builder = Builder(**kwargs)"
   ]
  },
  {
   "cell_type": "code",
   "execution_count": 20,
   "id": "82ba939b",
   "metadata": {
    "executionInfo": {
     "elapsed": 2472,
     "status": "ok",
     "timestamp": 1757615401991,
     "user": {
      "displayName": "jay arnim",
      "userId": "06585464737719356011"
     },
     "user_tz": -540
    },
    "id": "82ba939b"
   },
   "outputs": [],
   "source": [
    "kwargs = dict(\n",
    "    trn_val_tst_ratio=TRN_VAL_TST_RATIO,\n",
    "    neg_per_pos_ratio=NEG_PER_POS_RATIO,\n",
    "    batch_size=BATCH_SIZE,\n",
    "    hist_selector_type=HIST_SELECTOR_TYPE,\n",
    "    max_hist=MAX_HIST,\n",
    "    shuffle=SHUFFLE,\n",
    ")\n",
    "\n",
    "loaders, interactions, histories = builder(**kwargs)"
   ]
  },
  {
   "cell_type": "markdown",
   "id": "eaaa126a",
   "metadata": {
    "id": "eaaa126a"
   },
   "source": [
    "# Modeling"
   ]
  },
  {
   "cell_type": "code",
   "execution_count": 21,
   "id": "56d340e9",
   "metadata": {
    "execution": {
     "iopub.execute_input": "2025-04-18T00:54:06.931133Z",
     "iopub.status.busy": "2025-04-18T00:54:06.931133Z",
     "iopub.status.idle": "2025-04-18T00:54:07.014576Z",
     "shell.execute_reply": "2025-04-18T00:54:07.014576Z"
    },
    "executionInfo": {
     "elapsed": 8,
     "status": "ok",
     "timestamp": 1757615402022,
     "user": {
      "displayName": "jay arnim",
      "userId": "06585464737719356011"
     },
     "user_tz": -540
    },
    "id": "56d340e9"
   },
   "outputs": [],
   "source": [
    "kwargs = dict(\n",
    "    n_users=N_USERS,\n",
    "    n_items=N_ITEMS,\n",
    "    n_factors=N_FACTORS,\n",
    "    hidden=HIDDEN,\n",
    "    user_hist=histories[\"user\"],\n",
    "    hyper_approx=HYPER_APPROX,\n",
    "    hyper_prior=HYPER_PRIOR,\n",
    "    tau=TAU,\n",
    "    beta=BETA,\n",
    "    dropout=DROPOUT,\n",
    "    sampler_type=SAMPLER_TYPE,\n",
    "    score_fn_type=SCORE_FN_TYPE,\n",
    ")\n",
    "\n",
    "model = bacf.model.Module(**kwargs)"
   ]
  },
  {
   "cell_type": "code",
   "execution_count": 22,
   "id": "92aec85d",
   "metadata": {
    "execution": {
     "iopub.execute_input": "2025-04-18T00:54:07.014576Z",
     "iopub.status.busy": "2025-04-18T00:54:07.014576Z",
     "iopub.status.idle": "2025-04-18T00:54:07.834168Z",
     "shell.execute_reply": "2025-04-18T00:54:07.834168Z"
    },
    "executionInfo": {
     "elapsed": 4879,
     "status": "ok",
     "timestamp": 1757615406904,
     "user": {
      "displayName": "jay arnim",
      "userId": "06585464737719356011"
     },
     "user_tz": -540
    },
    "id": "92aec85d"
   },
   "outputs": [],
   "source": [
    "kwargs = dict(\n",
    "    model=model,\n",
    "    loss_fn_type=LOSS_FN_TYPE,\n",
    "    lr=LEARNING_RATE,\n",
    "    weight_decay=WEIGHT_DECAY,\n",
    "    kl_lambda=KL_LAMBDA,\n",
    ")\n",
    "\n",
    "trainer = CustomizedTrainer(**kwargs)"
   ]
  },
  {
   "cell_type": "code",
   "execution_count": 23,
   "id": "a3c43602",
   "metadata": {
    "executionInfo": {
     "elapsed": 12,
     "status": "ok",
     "timestamp": 1757615406906,
     "user": {
      "displayName": "jay arnim",
      "userId": "06585464737719356011"
     },
     "user_tz": -540
    },
    "id": "a3c43602"
   },
   "outputs": [],
   "source": [
    "kwargs = dict(\n",
    "    model=model,\n",
    "    patience=PATIENCE,\n",
    "    delta=DELTA,\n",
    "    metric_fn_type=METRIC_FN_TYPE,\n",
    ")\n",
    "\n",
    "monitor = EarlyStoppingMonitor(**kwargs)"
   ]
  },
  {
   "cell_type": "code",
   "execution_count": 24,
   "id": "a12e0203",
   "metadata": {
    "executionInfo": {
     "elapsed": 232,
     "status": "ok",
     "timestamp": 1757615407130,
     "user": {
      "displayName": "jay arnim",
      "userId": "06585464737719356011"
     },
     "user_tz": -540
    },
    "id": "a12e0203"
   },
   "outputs": [],
   "source": [
    "kwargs = dict(\n",
    "    model=model,\n",
    "    trainer=trainer,\n",
    "    monitor=monitor,\n",
    ")\n",
    "\n",
    "runner = Runner(**kwargs)"
   ]
  },
  {
   "cell_type": "markdown",
   "id": "ee78f187",
   "metadata": {
    "id": "ee78f187"
   },
   "source": [
    "# Train"
   ]
  },
  {
   "cell_type": "code",
   "execution_count": 25,
   "id": "3e4de17a",
   "metadata": {
    "colab": {
     "base_uri": "https://localhost:8080/"
    },
    "execution": {
     "iopub.execute_input": "2025-04-18T00:54:07.834168Z",
     "iopub.status.busy": "2025-04-18T00:54:07.834168Z",
     "iopub.status.idle": "2025-04-18T00:55:21.491977Z",
     "shell.execute_reply": "2025-04-18T00:55:21.491977Z"
    },
    "executionInfo": {
     "elapsed": 891789,
     "status": "ok",
     "timestamp": 1757616298917,
     "user": {
      "displayName": "jay arnim",
      "userId": "06585464737719356011"
     },
     "user_tz": -540
    },
    "id": "3e4de17a",
    "outputId": "30bee604-1ac0-4cbd-a85d-ded587ee1208"
   },
   "outputs": [
    {
     "name": "stdout",
     "output_type": "stream",
     "text": [
      "LEAVE ONE OUT\n",
      "\tBEST SCORE: 0.6106\n",
      "\tBEST EPOCH: 11\n",
      "COMPUTING COST FOR LEARNING\n",
      "\t(s/epoch): 0.9441\n",
      "\t(epoch/s): 1.0592\n",
      "\t(s/batch): 0.0354\n",
      "\t(batch/s): 28.2164\n"
     ]
    }
   ],
   "source": [
    "kwargs = dict(\n",
    "    trn_loader=loaders[\"trn\"],\n",
    "    val_loader=loaders[\"val\"],\n",
    "    loo_loader=loaders[\"loo\"],\n",
    "    n_epochs=N_EPOCHS,\n",
    "    annealing=ANNEALING,\n",
    "    warm_up=WARM_UP,\n",
    "    interval=INTERVAL,\n",
    ")\n",
    "\n",
    "history = runner.fit(**kwargs)"
   ]
  },
  {
   "cell_type": "code",
   "execution_count": 26,
   "id": "0dde1ad9",
   "metadata": {
    "colab": {
     "base_uri": "https://localhost:8080/",
     "height": 507
    },
    "execution": {
     "iopub.execute_input": "2025-04-18T00:55:21.491977Z",
     "iopub.status.busy": "2025-04-18T00:55:21.491977Z",
     "iopub.status.idle": "2025-04-18T00:55:21.585604Z",
     "shell.execute_reply": "2025-04-18T00:55:21.585604Z"
    },
    "executionInfo": {
     "elapsed": 286,
     "status": "ok",
     "timestamp": 1757616299204,
     "user": {
      "displayName": "jay arnim",
      "userId": "06585464737719356011"
     },
     "user_tz": -540
    },
    "id": "0dde1ad9",
    "outputId": "93864511-741d-48d4-fbf4-158923e79390"
   },
   "outputs": [
    {
     "data": {
      "image/png": "[encoded data removed]",
      "text/plain": [
       "<Figure size 800x500 with 1 Axes>"
      ]
     },
     "metadata": {},
     "output_type": "display_data"
    }
   ],
   "source": [
    "UTILS.visualizer.loss_plot(history[\"nll\"], 'NEGATIVE LOG LIKELIHOOD')"
   ]
  },
  {
   "cell_type": "code",
   "execution_count": 27,
   "id": "8a57a746",
   "metadata": {},
   "outputs": [
    {
     "data": {
      "image/png": "[encoded data removed]",
      "text/plain": [
       "<Figure size 800x500 with 1 Axes>"
      ]
     },
     "metadata": {},
     "output_type": "display_data"
    }
   ],
   "source": [
    "UTILS.visualizer.loss_plot(history[\"kl\"], 'KL DIVERGENCE')"
   ]
  },
  {
   "cell_type": "code",
   "execution_count": 28,
   "id": "a3668a43",
   "metadata": {},
   "outputs": [
    {
     "data": {
      "image/png": "[encoded data removed]",
      "text/plain": [
       "<Figure size 800x500 with 1 Axes>"
      ]
     },
     "metadata": {},
     "output_type": "display_data"
    }
   ],
   "source": [
    "UTILS.visualizer.score_plot(history, 'SCORE')"
   ]
  },
  {
   "cell_type": "markdown",
   "id": "98b20720",
   "metadata": {
    "id": "98b20720"
   },
   "source": [
    "# Test"
   ]
  },
  {
   "cell_type": "code",
   "execution_count": 29,
   "id": "31e7ec50",
   "metadata": {},
   "outputs": [],
   "source": [
    "evaluator = PerformanceEvaluator(model)"
   ]
  },
  {
   "cell_type": "code",
   "execution_count": 30,
   "id": "5efe605c",
   "metadata": {
    "colab": {
     "base_uri": "https://localhost:8080/"
    },
    "execution": {
     "iopub.execute_input": "2025-04-18T00:55:21.660121Z",
     "iopub.status.busy": "2025-04-18T00:55:21.660121Z",
     "iopub.status.idle": "2025-04-18T00:55:26.983338Z",
     "shell.execute_reply": "2025-04-18T00:55:26.983338Z"
    },
    "executionInfo": {
     "elapsed": 4063,
     "status": "ok",
     "timestamp": 1757616303271,
     "user": {
      "displayName": "jay arnim",
      "userId": "06585464737719356011"
     },
     "user_tz": -540
    },
    "id": "5efe605c",
    "outputId": "b3a4ad02-947a-43e6-8b24-eabbead748ed"
   },
   "outputs": [
    {
     "name": "stdout",
     "output_type": "stream",
     "text": [
      "COMPUTING COST FOR INFERENCE\n",
      "\t(s/epoch): 57.6056\n",
      "\t(epoch/s): 0.0174\n",
      "\t(s/batch): 0.0147\n",
      "\t(batch/s): 67.9794\n"
     ]
    }
   ],
   "source": [
    "metrics_sheet = evaluator.evaluate(loaders[\"tst\"])"
   ]
  },
  {
   "cell_type": "code",
   "execution_count": 31,
   "id": "16b39682",
   "metadata": {
    "colab": {
     "base_uri": "https://localhost:8080/",
     "height": 269
    },
    "executionInfo": {
     "elapsed": 8485,
     "status": "ok",
     "timestamp": 1757616311760,
     "user": {
      "displayName": "jay arnim",
      "userId": "06585464737719356011"
     },
     "user_tz": -540
    },
    "id": "16b39682",
    "outputId": "2d7a3041-c91d-41cc-f6f0-d17dde6135ae"
   },
   "outputs": [
    {
     "data": {
      "text/html": [
       "<div>\n",
       "<style scoped>\n",
       "    .dataframe tbody tr th:only-of-type {\n",
       "        vertical-align: middle;\n",
       "    }\n",
       "\n",
       "    .dataframe tbody tr th {\n",
       "        vertical-align: top;\n",
       "    }\n",
       "\n",
       "    .dataframe thead th {\n",
       "        text-align: right;\n",
       "    }\n",
       "</style>\n",
       "<table border=\"1\" class=\"dataframe\">\n",
       "  <thead>\n",
       "    <tr style=\"text-align: right;\">\n",
       "      <th></th>\n",
       "      <th>top_k</th>\n",
       "      <th>hit_ratio</th>\n",
       "      <th>precision</th>\n",
       "      <th>recall</th>\n",
       "      <th>map</th>\n",
       "      <th>ndcg</th>\n",
       "    </tr>\n",
       "  </thead>\n",
       "  <tbody>\n",
       "    <tr>\n",
       "      <th>0</th>\n",
       "      <td>5</td>\n",
       "      <td>0.888525</td>\n",
       "      <td>0.415082</td>\n",
       "      <td>0.326522</td>\n",
       "      <td>0.252945</td>\n",
       "      <td>0.500952</td>\n",
       "    </tr>\n",
       "    <tr>\n",
       "      <th>1</th>\n",
       "      <td>10</td>\n",
       "      <td>0.950820</td>\n",
       "      <td>0.317705</td>\n",
       "      <td>0.449044</td>\n",
       "      <td>0.305576</td>\n",
       "      <td>0.508568</td>\n",
       "    </tr>\n",
       "    <tr>\n",
       "      <th>2</th>\n",
       "      <td>15</td>\n",
       "      <td>0.972131</td>\n",
       "      <td>0.262732</td>\n",
       "      <td>0.514492</td>\n",
       "      <td>0.326525</td>\n",
       "      <td>0.518534</td>\n",
       "    </tr>\n",
       "    <tr>\n",
       "      <th>3</th>\n",
       "      <td>20</td>\n",
       "      <td>0.986885</td>\n",
       "      <td>0.225656</td>\n",
       "      <td>0.560992</td>\n",
       "      <td>0.338828</td>\n",
       "      <td>0.527218</td>\n",
       "    </tr>\n",
       "    <tr>\n",
       "      <th>4</th>\n",
       "      <td>25</td>\n",
       "      <td>0.990164</td>\n",
       "      <td>0.199934</td>\n",
       "      <td>0.599197</td>\n",
       "      <td>0.347264</td>\n",
       "      <td>0.535976</td>\n",
       "    </tr>\n",
       "    <tr>\n",
       "      <th>5</th>\n",
       "      <td>50</td>\n",
       "      <td>0.996721</td>\n",
       "      <td>0.132984</td>\n",
       "      <td>0.697715</td>\n",
       "      <td>0.366633</td>\n",
       "      <td>0.563445</td>\n",
       "    </tr>\n",
       "    <tr>\n",
       "      <th>6</th>\n",
       "      <td>100</td>\n",
       "      <td>1.000000</td>\n",
       "      <td>0.086754</td>\n",
       "      <td>0.792252</td>\n",
       "      <td>0.380059</td>\n",
       "      <td>0.596949</td>\n",
       "    </tr>\n",
       "  </tbody>\n",
       "</table>\n",
       "</div>"
      ],
      "text/plain": [
       "   top_k  hit_ratio  precision    recall       map      ndcg\n",
       "0      5   0.888525   0.415082  0.326522  0.252945  0.500952\n",
       "1     10   0.950820   0.317705  0.449044  0.305576  0.508568\n",
       "2     15   0.972131   0.262732  0.514492  0.326525  0.518534\n",
       "3     20   0.986885   0.225656  0.560992  0.338828  0.527218\n",
       "4     25   0.990164   0.199934  0.599197  0.347264  0.535976\n",
       "5     50   0.996721   0.132984  0.697715  0.366633  0.563445\n",
       "6    100   1.000000   0.086754  0.792252  0.380059  0.596949"
      ]
     },
     "execution_count": 31,
     "metadata": {},
     "output_type": "execute_result"
    }
   ],
   "source": [
    "metrics_sheet"
   ]
  },
  {
   "cell_type": "markdown",
   "id": "c2fb5c8c",
   "metadata": {
    "id": "c2fb5c8c"
   },
   "source": [
    "# Save"
   ]
  },
  {
   "cell_type": "code",
   "execution_count": 32,
   "id": "37c5cd3b",
   "metadata": {
    "executionInfo": {
     "elapsed": 355,
     "status": "ok",
     "timestamp": 1757616312118,
     "user": {
      "displayName": "jay arnim",
      "userId": "06585464737719356011"
     },
     "user_tz": -540
    },
    "id": "37c5cd3b"
   },
   "outputs": [],
   "source": [
    "PATH = f'./_checkpoints/{LEARNING_TYPE}/{MODEL_NAME}.pth'\n",
    "\n",
    "kwargs = dict(\n",
    "    model=model,\n",
    "    path=PATH,\n",
    ")\n",
    "\n",
    "UTILS.checkpointer.save(**kwargs)"
   ]
  }
 ],
 "metadata": {
  "accelerator": "GPU",
  "colab": {
   "gpuType": "T4",
   "provenance": []
  },
  "kernelspec": {
   "display_name": "Python 3",
   "language": "python",
   "name": "python3"
  },
  "language_info": {
   "codemirror_mode": {
    "name": "ipython",
    "version": 3
   },
   "file_extension": ".py",
   "mimetype": "text/x-python",
   "name": "python",
   "nbconvert_exporter": "python",
   "pygments_lexer": "ipython3",
   "version": "3.11.5"
  }
 },
 "nbformat": 4,
 "nbformat_minor": 5
}
